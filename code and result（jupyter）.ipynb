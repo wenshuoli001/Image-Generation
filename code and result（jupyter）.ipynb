{
 "cells": [
  {
   "cell_type": "code",
   "execution_count": 73,
   "id": "abc8b29f",
   "metadata": {},
   "outputs": [],
   "source": [
    "import os\n",
    "import pickle\n",
    "import time\n",
    "\n",
    "import matplotlib.pyplot as plt\n",
    "import numpy as np\n",
    "import torch\n",
    "import torch.nn as nn\n",
    "import torchvision.datasets as datasets\n",
    "import torchvision.transforms as transforms\n",
    "from torch.utils.data import DataLoader\n",
    "from tqdm import tqdm"
   ]
  },
  {
   "cell_type": "code",
   "execution_count": 74,
   "id": "835ff342",
   "metadata": {},
   "outputs": [],
   "source": [
    "class Generator(nn.Module):\n",
    "    \"\"\"Image generator\n",
    "    \n",
    "    Takes a noise vector as input and syntheses a single channel image accordingly\n",
    "    \"\"\"\n",
    "    #生成器：输入向量，输出对应产生的图像#\n",
    "\n",
    "    def __init__(self, input_dims, output_dims):\n",
    "        \"\"\"Init function\n",
    "        \n",
    "        Declare the network structure as indicated in CW2 Guidance\n",
    "        \n",
    "        Arguments:\n",
    "            input_dims {int} -- Dimension of input noise vector\n",
    "            output_dims {int} -- Dimension of the output vector (flatten image)\n",
    "        \"\"\"\n",
    "        super(Generator, self).__init__()\n",
    "        #其中的super类的作用是继承的时候，调用含super的各个的基类__init__函数#\n",
    "        #如果不使用super，就不会调用这些类的__init__函数，除非显式声明。而且使用super可以避免基类被重复调用。#\n",
    "        ###  TODO: Change the architecture and value as CW2 Guidance required\n",
    "        self.fc0 = nn.Sequential(nn.Linear(input_dims, 256), nn.LeakyReLU(0.2))\n",
    "        self.fc1 = nn.Sequential(nn.Linear(256, 512), nn.LeakyReLU(0.2))\n",
    "        self.fc2 = nn.Sequential(nn.Linear(512, 1024), nn.LeakyReLU(0.2))\n",
    "        #nn.Sequential：有序执行，先执行全连接（nn.linear）再执行relu#\n",
    "        # output hidden layer\n",
    "        self.fc3 = nn.Sequential(nn.Linear(1024, output_dims), nn.Tanh())\n",
    "        #输入维度（100）→全连接+leakyrelu→256→全连接+leakyrelu→512→全连接+leakyrelu→1024→全连接+tanh→输出维度（784）#\n",
    "\n",
    "    def forward(self, x):\n",
    "        \"\"\"Forward function\n",
    "        \n",
    "        Arguments:\n",
    "            x {Tensor} -- a batch of noise vectors in shape (<batch_size>x<input_dims>)\n",
    "        \n",
    "        Returns:\n",
    "            Tensor -- a batch of flatten image in shape (<batch_size>x<output_dims>)\n",
    "        \"\"\"\n",
    "        ###  TODO: modify to be consistent with the network structure\n",
    "        x = self.fc0(x)\n",
    "        x = self.fc1(x)\n",
    "        x = self.fc2(x)\n",
    "        x = self.fc3(x)\n",
    "        return x\n",
    "        #将x输入到上面的两层中，返回输出#\n",
    "\n"
   ]
  },
  {
   "cell_type": "code",
   "execution_count": 75,
   "id": "a3edc7fe",
   "metadata": {},
   "outputs": [],
   "source": [
    "class Discriminator(nn.Module):\n",
    "    \"\"\"Image discriminator\n",
    "    \n",
    "    Takes a image as input and predict if it is real from the dataset or fake synthesised by the generator\n",
    "    \"\"\"\n",
    "    #判别器：输入图像，判别真假，即是生成器产生的（假）还是数据集里的图像（真）#\n",
    "\n",
    "    def __init__(self, input_dims, output_dims=1):\n",
    "        \"\"\"Init function\n",
    "        \n",
    "        Declare the discriminator network structure as indicated in CW2 Guidance\n",
    "        \n",
    "        Arguments:\n",
    "            input_dims {int} -- Dimension of the flatten input images\n",
    "            #输入维度为拉成向量后的图像#\n",
    "        \n",
    "        Keyword Arguments:\n",
    "            output_dims {int} -- Predicted probability (default: {1})\n",
    "            #输出为概率，所以维度默认为1#\n",
    "        \"\"\"\n",
    "        super(Discriminator, self).__init__()\n",
    "\n",
    "        ###  TODO: Change the architecture and value as CW2 Guidance required\n",
    "        self.fc0 = nn.Sequential(\n",
    "            nn.Linear(input_dims, 1024),\n",
    "            nn.LeakyReLU(0.2),\n",
    "            nn.Dropout(0.3)\n",
    "        )\n",
    "        self.fc1 = nn.Sequential(\n",
    "            nn.Linear(1024, 512),\n",
    "            nn.LeakyReLU(0.2),\n",
    "            nn.Dropout(0.3)\n",
    "        )\n",
    "        self.fc2 = nn.Sequential(\n",
    "            nn.Linear(512, 256),\n",
    "            nn.LeakyReLU(0.2),\n",
    "            nn.Dropout(0.3)\n",
    "        )\n",
    "        self.fc3 = nn.Sequential(\n",
    "            nn.Linear(256, 1),\n",
    "            nn.Sigmoid()\n",
    "        )\n",
    "        #输入维度（784）→全连接层+leakyrelu→1024→全连接层+leakyrelu→512→全连接层+leakyrelu→256→全连接层+sigmoid→概率（1维）#\n",
    "\n",
    "    def forward(self, x):\n",
    "        \"\"\"Forward function\n",
    "        \n",
    "        Arguments:\n",
    "            x {Tensor} -- a batch of 2D image in shape (<batch_size>xHxW)\n",
    "        \n",
    "        Returns:\n",
    "            Tensor -- predicted probabilities (<batch_size>)\n",
    "        \"\"\"\n",
    "        ###  TODO: modify to be consistent with the network structure\n",
    "\n",
    "        x = self.fc0(x)\n",
    "        x = self.fc1(x)\n",
    "        x = self.fc2(x)\n",
    "        x = self.fc3(x)\n",
    "        return x\n",
    "    #将x输入到上面的两层中，返回输出#\n",
    "\n"
   ]
  },
  {
   "cell_type": "code",
   "execution_count": 76,
   "id": "fc9dc6d7",
   "metadata": {},
   "outputs": [],
   "source": [
    "def show_result(G_net, z_, num_epoch, show=False, save=False, path='result.png'):\n",
    "    \"\"\"Result visualisation\n",
    "    \n",
    "    Show and save the generated figures in the grid fashion\n",
    "    \n",
    "    Arguments:\n",
    "        G_net {[nn.Module]} -- The generator instant\n",
    "        z_ {[Tensor]} -- Input noise vectors\n",
    "        num_epoch {[int]} -- Indicate how many epoch has the generator been trained\n",
    "    \n",
    "    Keyword Arguments:\n",
    "        show {bool} -- If to display the images (default: {False})\n",
    "        save {bool} -- If to store the images (default: {False})\n",
    "        path {str} -- path to store the images (default: {'result.png'})\n",
    "    \"\"\"\n",
    "\n",
    "    ###  TODO: complete the rest of part\n",
    "    # hint: use plt.subplots to construct grid\n",
    "    # hint: use a 5*5 grid to show all images \n",
    "    # hint: use plt.imshow and plt.savefig to display and store the images\n",
    "    fig,axes=plt.subplots(5,5)\n",
    "    k=0\n",
    "    for i in range(5):\n",
    "        for j in range(5):\n",
    "                axes[i][j].imshow(G_net(z_).cpu().detach().numpy()[k,:].reshape(28,28),cmap='gray')\n",
    "                k+=1\n",
    "    #在每个格子依次显示G（z）的每一行#    \n",
    "    if save:\n",
    "        plt.savefig(path)\n",
    "\n",
    "    if num_epoch in [10,20,50,100]:\n",
    "        plt.show()\n",
    "    else:\n",
    "        plt.close()"
   ]
  },
  {
   "cell_type": "code",
   "execution_count": 77,
   "id": "2ade6845",
   "metadata": {},
   "outputs": [],
   "source": [
    "def show_train_hist(hist, show=False, save=False, path='Train_hist.png'):\n",
    "    \"\"\"Loss tracker\n",
    "    \n",
    "    Plot the losses of generator and discriminator independently to see the trend\n",
    "    \n",
    "    Arguments:\n",
    "        hist {[dict]} -- Tracking variables\n",
    "    \n",
    "    Keyword Arguments:\n",
    "        show {bool} -- If to display the figure (default: {False})\n",
    "        save {bool} -- If to store the figure (default: {False})\n",
    "        path {str} -- path to store the figure (default: {'Train_hist.png'})\n",
    "    \"\"\"\n",
    "    x = range(len(hist['D_losses']))\n",
    "\n",
    "    y1 = hist['D_losses']\n",
    "    y2 = hist['G_losses']\n",
    "\n",
    "    plt.plot(x, y1, label='D_loss')\n",
    "    plt.plot(x, y2, label='G_loss')\n",
    "\n",
    "    plt.xlabel('Epoch')\n",
    "    plt.ylabel('Loss')\n",
    "\n",
    "    plt.legend(loc=4)\n",
    "    plt.grid(True)\n",
    "    plt.tight_layout()\n",
    "\n",
    "    if save:\n",
    "        plt.savefig(path)\n",
    "\n",
    "    if show:\n",
    "        plt.show()\n",
    "    else:\n",
    "        plt.close()"
   ]
  },
  {
   "cell_type": "code",
   "execution_count": 78,
   "id": "f8fed629",
   "metadata": {},
   "outputs": [],
   "source": [
    "def create_noise(num, dim):\n",
    "    \"\"\"Noise constructor\n",
    "    \n",
    "    returns a tensor filled with random numbers from a standard normal distribution\n",
    "    \n",
    "    Arguments:\n",
    "        num {int} -- Number of vectors\n",
    "        dim {int} -- Dimension of vectors\n",
    "    \n",
    "    Returns:\n",
    "        [Tensor] -- the generated noise vector batch\n",
    "    \"\"\"\n",
    "    return torch.randn(num, dim)\n"
   ]
  },
  {
   "cell_type": "code",
   "execution_count": 79,
   "id": "69978c7b",
   "metadata": {
    "scrolled": false
   },
   "outputs": [
    {
     "name": "stderr",
     "output_type": "stream",
     "text": [
      "100%|████████████████████████████████████████████████████████████████████████████████| 600/600 [00:21<00:00, 28.21it/s]\n"
     ]
    },
    {
     "name": "stdout",
     "output_type": "stream",
     "text": [
      "Epoch 1 of 100 with 21.27 s\n",
      "Generator loss: 3.15418371, Discriminator loss: 0.93522797\n"
     ]
    },
    {
     "name": "stderr",
     "output_type": "stream",
     "text": [
      "100%|████████████████████████████████████████████████████████████████████████████████| 600/600 [00:21<00:00, 28.34it/s]\n"
     ]
    },
    {
     "name": "stdout",
     "output_type": "stream",
     "text": [
      "Epoch 2 of 100 with 21.17 s\n",
      "Generator loss: 1.88917907, Discriminator loss: 1.02907141\n"
     ]
    },
    {
     "name": "stderr",
     "output_type": "stream",
     "text": [
      "100%|████████████████████████████████████████████████████████████████████████████████| 600/600 [00:21<00:00, 28.36it/s]\n"
     ]
    },
    {
     "name": "stdout",
     "output_type": "stream",
     "text": [
      "Epoch 3 of 100 with 21.15 s\n",
      "Generator loss: 1.93689176, Discriminator loss: 1.05389805\n"
     ]
    },
    {
     "name": "stderr",
     "output_type": "stream",
     "text": [
      "100%|████████████████████████████████████████████████████████████████████████████████| 600/600 [00:21<00:00, 28.35it/s]\n"
     ]
    },
    {
     "name": "stdout",
     "output_type": "stream",
     "text": [
      "Epoch 4 of 100 with 21.16 s\n",
      "Generator loss: 2.34124050, Discriminator loss: 0.75288410\n"
     ]
    },
    {
     "name": "stderr",
     "output_type": "stream",
     "text": [
      "100%|████████████████████████████████████████████████████████████████████████████████| 600/600 [00:21<00:00, 28.40it/s]\n"
     ]
    },
    {
     "name": "stdout",
     "output_type": "stream",
     "text": [
      "Epoch 5 of 100 with 21.13 s\n",
      "Generator loss: 2.65912253, Discriminator loss: 0.59236095\n"
     ]
    },
    {
     "name": "stderr",
     "output_type": "stream",
     "text": [
      "100%|████████████████████████████████████████████████████████████████████████████████| 600/600 [00:21<00:00, 28.29it/s]\n"
     ]
    },
    {
     "name": "stdout",
     "output_type": "stream",
     "text": [
      "Epoch 6 of 100 with 21.21 s\n",
      "Generator loss: 3.07917539, Discriminator loss: 0.49695475\n"
     ]
    },
    {
     "name": "stderr",
     "output_type": "stream",
     "text": [
      "100%|████████████████████████████████████████████████████████████████████████████████| 600/600 [00:21<00:00, 28.17it/s]\n"
     ]
    },
    {
     "name": "stdout",
     "output_type": "stream",
     "text": [
      "Epoch 7 of 100 with 21.30 s\n",
      "Generator loss: 2.59824280, Discriminator loss: 0.57748480\n"
     ]
    },
    {
     "name": "stderr",
     "output_type": "stream",
     "text": [
      "100%|████████████████████████████████████████████████████████████████████████████████| 600/600 [00:21<00:00, 28.39it/s]\n"
     ]
    },
    {
     "name": "stdout",
     "output_type": "stream",
     "text": [
      "Epoch 8 of 100 with 21.13 s\n",
      "Generator loss: 2.07558760, Discriminator loss: 0.71475836\n"
     ]
    },
    {
     "name": "stderr",
     "output_type": "stream",
     "text": [
      "100%|████████████████████████████████████████████████████████████████████████████████| 600/600 [00:21<00:00, 28.21it/s]\n"
     ]
    },
    {
     "name": "stdout",
     "output_type": "stream",
     "text": [
      "Epoch 9 of 100 with 21.27 s\n",
      "Generator loss: 2.24027431, Discriminator loss: 0.65850014\n"
     ]
    },
    {
     "name": "stderr",
     "output_type": "stream",
     "text": [
      "100%|████████████████████████████████████████████████████████████████████████████████| 600/600 [00:21<00:00, 28.41it/s]\n"
     ]
    },
    {
     "name": "stdout",
     "output_type": "stream",
     "text": [
      "Epoch 10 of 100 with 21.12 s\n",
      "Generator loss: 2.11119426, Discriminator loss: 0.71611321\n"
     ]
    },
    {
     "data": {
      "image/png": "[encoded data removed]",
      "text/plain": [
       "<Figure size 432x288 with 25 Axes>"
      ]
     },
     "metadata": {
      "needs_background": "light"
     },
     "output_type": "display_data"
    },
    {
     "name": "stderr",
     "output_type": "stream",
     "text": [
      "100%|████████████████████████████████████████████████████████████████████████████████| 600/600 [00:21<00:00, 28.42it/s]\n"
     ]
    },
    {
     "name": "stdout",
     "output_type": "stream",
     "text": [
      "Epoch 11 of 100 with 21.11 s\n",
      "Generator loss: 1.97852593, Discriminator loss: 0.76630883\n"
     ]
    },
    {
     "name": "stderr",
     "output_type": "stream",
     "text": [
      "100%|████████████████████████████████████████████████████████████████████████████████| 600/600 [00:21<00:00, 28.41it/s]\n"
     ]
    },
    {
     "name": "stdout",
     "output_type": "stream",
     "text": [
      "Epoch 12 of 100 with 21.13 s\n",
      "Generator loss: 1.88993382, Discriminator loss: 0.81240782\n"
     ]
    },
    {
     "name": "stderr",
     "output_type": "stream",
     "text": [
      "100%|████████████████████████████████████████████████████████████████████████████████| 600/600 [00:21<00:00, 27.44it/s]\n"
     ]
    },
    {
     "name": "stdout",
     "output_type": "stream",
     "text": [
      "Epoch 13 of 100 with 21.86 s\n",
      "Generator loss: 1.91551044, Discriminator loss: 0.78484264\n"
     ]
    },
    {
     "name": "stderr",
     "output_type": "stream",
     "text": [
      "100%|████████████████████████████████████████████████████████████████████████████████| 600/600 [00:21<00:00, 28.32it/s]\n"
     ]
    },
    {
     "name": "stdout",
     "output_type": "stream",
     "text": [
      "Epoch 14 of 100 with 21.19 s\n",
      "Generator loss: 1.84631141, Discriminator loss: 0.82347170\n"
     ]
    },
    {
     "name": "stderr",
     "output_type": "stream",
     "text": [
      "100%|████████████████████████████████████████████████████████████████████████████████| 600/600 [00:21<00:00, 28.15it/s]\n"
     ]
    },
    {
     "name": "stdout",
     "output_type": "stream",
     "text": [
      "Epoch 15 of 100 with 21.32 s\n",
      "Generator loss: 1.85871369, Discriminator loss: 0.81092797\n"
     ]
    },
    {
     "name": "stderr",
     "output_type": "stream",
     "text": [
      "100%|████████████████████████████████████████████████████████████████████████████████| 600/600 [00:21<00:00, 28.44it/s]\n"
     ]
    },
    {
     "name": "stdout",
     "output_type": "stream",
     "text": [
      "Epoch 16 of 100 with 21.10 s\n",
      "Generator loss: 1.76775174, Discriminator loss: 0.85965347\n"
     ]
    },
    {
     "name": "stderr",
     "output_type": "stream",
     "text": [
      "100%|████████████████████████████████████████████████████████████████████████████████| 600/600 [00:21<00:00, 28.46it/s]\n"
     ]
    },
    {
     "name": "stdout",
     "output_type": "stream",
     "text": [
      "Epoch 17 of 100 with 21.08 s\n",
      "Generator loss: 1.77333200, Discriminator loss: 0.84556060\n"
     ]
    },
    {
     "name": "stderr",
     "output_type": "stream",
     "text": [
      "100%|████████████████████████████████████████████████████████████████████████████████| 600/600 [00:21<00:00, 28.27it/s]\n"
     ]
    },
    {
     "name": "stdout",
     "output_type": "stream",
     "text": [
      "Epoch 18 of 100 with 21.22 s\n",
      "Generator loss: 1.69022695, Discriminator loss: 0.88711451\n"
     ]
    },
    {
     "name": "stderr",
     "output_type": "stream",
     "text": [
      "100%|████████████████████████████████████████████████████████████████████████████████| 600/600 [00:21<00:00, 28.16it/s]\n"
     ]
    },
    {
     "name": "stdout",
     "output_type": "stream",
     "text": [
      "Epoch 19 of 100 with 21.31 s\n",
      "Generator loss: 1.65111219, Discriminator loss: 0.90009694\n"
     ]
    },
    {
     "name": "stderr",
     "output_type": "stream",
     "text": [
      "100%|████████████████████████████████████████████████████████████████████████████████| 600/600 [00:21<00:00, 28.18it/s]\n"
     ]
    },
    {
     "name": "stdout",
     "output_type": "stream",
     "text": [
      "Epoch 20 of 100 with 21.29 s\n",
      "Generator loss: 1.71705687, Discriminator loss: 0.88420451\n"
     ]
    },
    {
     "data": {
      "image/png": "[encoded data removed]",
      "text/plain": [
       "<Figure size 432x288 with 25 Axes>"
      ]
     },
     "metadata": {
      "needs_background": "light"
     },
     "output_type": "display_data"
    },
    {
     "name": "stderr",
     "output_type": "stream",
     "text": [
      "100%|████████████████████████████████████████████████████████████████████████████████| 600/600 [00:21<00:00, 28.46it/s]\n"
     ]
    },
    {
     "name": "stdout",
     "output_type": "stream",
     "text": [
      "Epoch 21 of 100 with 21.08 s\n",
      "Generator loss: 1.64133886, Discriminator loss: 0.90610974\n"
     ]
    },
    {
     "name": "stderr",
     "output_type": "stream",
     "text": [
      "100%|████████████████████████████████████████████████████████████████████████████████| 600/600 [00:21<00:00, 28.04it/s]\n"
     ]
    },
    {
     "name": "stdout",
     "output_type": "stream",
     "text": [
      "Epoch 22 of 100 with 21.40 s\n",
      "Generator loss: 1.64150540, Discriminator loss: 0.89374525\n"
     ]
    },
    {
     "name": "stderr",
     "output_type": "stream",
     "text": [
      "100%|████████████████████████████████████████████████████████████████████████████████| 600/600 [00:22<00:00, 26.96it/s]\n"
     ]
    },
    {
     "name": "stdout",
     "output_type": "stream",
     "text": [
      "Epoch 23 of 100 with 22.26 s\n",
      "Generator loss: 1.61014826, Discriminator loss: 0.92187606\n"
     ]
    },
    {
     "name": "stderr",
     "output_type": "stream",
     "text": [
      "100%|████████████████████████████████████████████████████████████████████████████████| 600/600 [00:21<00:00, 28.28it/s]\n"
     ]
    },
    {
     "name": "stdout",
     "output_type": "stream",
     "text": [
      "Epoch 24 of 100 with 21.22 s\n",
      "Generator loss: 1.53034782, Discriminator loss: 0.93751526\n"
     ]
    },
    {
     "name": "stderr",
     "output_type": "stream",
     "text": [
      "100%|████████████████████████████████████████████████████████████████████████████████| 600/600 [00:21<00:00, 28.31it/s]\n"
     ]
    },
    {
     "name": "stdout",
     "output_type": "stream",
     "text": [
      "Epoch 25 of 100 with 21.20 s\n",
      "Generator loss: 1.55416698, Discriminator loss: 0.94065681\n"
     ]
    },
    {
     "name": "stderr",
     "output_type": "stream",
     "text": [
      "100%|████████████████████████████████████████████████████████████████████████████████| 600/600 [00:21<00:00, 28.32it/s]\n"
     ]
    },
    {
     "name": "stdout",
     "output_type": "stream",
     "text": [
      "Epoch 26 of 100 with 21.19 s\n",
      "Generator loss: 1.56083989, Discriminator loss: 0.94515057\n"
     ]
    },
    {
     "name": "stderr",
     "output_type": "stream",
     "text": [
      "100%|████████████████████████████████████████████████████████████████████████████████| 600/600 [00:21<00:00, 28.42it/s]\n"
     ]
    },
    {
     "name": "stdout",
     "output_type": "stream",
     "text": [
      "Epoch 27 of 100 with 21.11 s\n",
      "Generator loss: 1.45288444, Discriminator loss: 0.97736669\n"
     ]
    },
    {
     "name": "stderr",
     "output_type": "stream",
     "text": [
      "100%|████████████████████████████████████████████████████████████████████████████████| 600/600 [00:21<00:00, 28.18it/s]\n"
     ]
    },
    {
     "name": "stdout",
     "output_type": "stream",
     "text": [
      "Epoch 28 of 100 with 21.29 s\n",
      "Generator loss: 1.36512388, Discriminator loss: 1.01980715\n"
     ]
    },
    {
     "name": "stderr",
     "output_type": "stream",
     "text": [
      "100%|████████████████████████████████████████████████████████████████████████████████| 600/600 [00:21<00:00, 28.28it/s]\n"
     ]
    },
    {
     "name": "stdout",
     "output_type": "stream",
     "text": [
      "Epoch 29 of 100 with 21.22 s\n",
      "Generator loss: 1.43055206, Discriminator loss: 1.00918023\n"
     ]
    },
    {
     "name": "stderr",
     "output_type": "stream",
     "text": [
      "100%|████████████████████████████████████████████████████████████████████████████████| 600/600 [00:21<00:00, 28.42it/s]\n"
     ]
    },
    {
     "name": "stdout",
     "output_type": "stream",
     "text": [
      "Epoch 30 of 100 with 21.11 s\n",
      "Generator loss: 1.42404371, Discriminator loss: 1.00043553\n"
     ]
    },
    {
     "name": "stderr",
     "output_type": "stream",
     "text": [
      "100%|████████████████████████████████████████████████████████████████████████████████| 600/600 [00:21<00:00, 28.27it/s]\n"
     ]
    },
    {
     "name": "stdout",
     "output_type": "stream",
     "text": [
      "Epoch 31 of 100 with 21.23 s\n",
      "Generator loss: 1.38863858, Discriminator loss: 1.01220464\n"
     ]
    },
    {
     "name": "stderr",
     "output_type": "stream",
     "text": [
      "100%|████████████████████████████████████████████████████████████████████████████████| 600/600 [00:21<00:00, 28.14it/s]\n"
     ]
    },
    {
     "name": "stdout",
     "output_type": "stream",
     "text": [
      "Epoch 32 of 100 with 21.33 s\n",
      "Generator loss: 1.43011640, Discriminator loss: 0.98722895\n"
     ]
    },
    {
     "name": "stderr",
     "output_type": "stream",
     "text": [
      "100%|████████████████████████████████████████████████████████████████████████████████| 600/600 [00:21<00:00, 28.42it/s]\n"
     ]
    },
    {
     "name": "stdout",
     "output_type": "stream",
     "text": [
      "Epoch 33 of 100 with 21.12 s\n",
      "Generator loss: 1.38432424, Discriminator loss: 1.02194927\n"
     ]
    },
    {
     "name": "stderr",
     "output_type": "stream",
     "text": [
      "100%|████████████████████████████████████████████████████████████████████████████████| 600/600 [00:23<00:00, 25.92it/s]\n"
     ]
    },
    {
     "name": "stdout",
     "output_type": "stream",
     "text": [
      "Epoch 34 of 100 with 23.15 s\n",
      "Generator loss: 1.35777887, Discriminator loss: 1.01491493\n"
     ]
    },
    {
     "name": "stderr",
     "output_type": "stream",
     "text": [
      "100%|████████████████████████████████████████████████████████████████████████████████| 600/600 [00:23<00:00, 26.07it/s]\n"
     ]
    },
    {
     "name": "stdout",
     "output_type": "stream",
     "text": [
      "Epoch 35 of 100 with 23.02 s\n",
      "Generator loss: 1.30478835, Discriminator loss: 1.04949217\n"
     ]
    },
    {
     "name": "stderr",
     "output_type": "stream",
     "text": [
      "100%|████████████████████████████████████████████████████████████████████████████████| 600/600 [00:21<00:00, 28.12it/s]\n"
     ]
    },
    {
     "name": "stdout",
     "output_type": "stream",
     "text": [
      "Epoch 36 of 100 with 21.34 s\n",
      "Generator loss: 1.30939207, Discriminator loss: 1.05480998\n"
     ]
    },
    {
     "name": "stderr",
     "output_type": "stream",
     "text": [
      "100%|████████████████████████████████████████████████████████████████████████████████| 600/600 [00:21<00:00, 27.91it/s]\n"
     ]
    },
    {
     "name": "stdout",
     "output_type": "stream",
     "text": [
      "Epoch 37 of 100 with 21.50 s\n",
      "Generator loss: 1.27324567, Discriminator loss: 1.06746905\n"
     ]
    },
    {
     "name": "stderr",
     "output_type": "stream",
     "text": [
      "100%|████████████████████████████████████████████████████████████████████████████████| 600/600 [00:21<00:00, 28.30it/s]\n"
     ]
    },
    {
     "name": "stdout",
     "output_type": "stream",
     "text": [
      "Epoch 38 of 100 with 21.20 s\n",
      "Generator loss: 1.28338728, Discriminator loss: 1.06937391\n"
     ]
    },
    {
     "name": "stderr",
     "output_type": "stream",
     "text": [
      "100%|████████████████████████████████████████████████████████████████████████████████| 600/600 [00:21<00:00, 28.06it/s]\n"
     ]
    },
    {
     "name": "stdout",
     "output_type": "stream",
     "text": [
      "Epoch 39 of 100 with 21.39 s\n",
      "Generator loss: 1.27964794, Discriminator loss: 1.05801579\n"
     ]
    },
    {
     "name": "stderr",
     "output_type": "stream",
     "text": [
      "100%|████████████████████████████████████████████████████████████████████████████████| 600/600 [00:21<00:00, 28.22it/s]\n"
     ]
    },
    {
     "name": "stdout",
     "output_type": "stream",
     "text": [
      "Epoch 40 of 100 with 21.27 s\n",
      "Generator loss: 1.23953081, Discriminator loss: 1.07981658\n"
     ]
    },
    {
     "name": "stderr",
     "output_type": "stream",
     "text": [
      "100%|████████████████████████████████████████████████████████████████████████████████| 600/600 [00:21<00:00, 28.24it/s]\n"
     ]
    },
    {
     "name": "stdout",
     "output_type": "stream",
     "text": [
      "Epoch 41 of 100 with 21.25 s\n",
      "Generator loss: 1.20342915, Discriminator loss: 1.09944666\n"
     ]
    },
    {
     "name": "stderr",
     "output_type": "stream",
     "text": [
      "100%|████████████████████████████████████████████████████████████████████████████████| 600/600 [00:21<00:00, 28.06it/s]\n"
     ]
    },
    {
     "name": "stdout",
     "output_type": "stream",
     "text": [
      "Epoch 42 of 100 with 21.39 s\n",
      "Generator loss: 1.19273786, Discriminator loss: 1.11559107\n"
     ]
    },
    {
     "name": "stderr",
     "output_type": "stream",
     "text": [
      "100%|████████████████████████████████████████████████████████████████████████████████| 600/600 [00:21<00:00, 28.14it/s]\n"
     ]
    },
    {
     "name": "stdout",
     "output_type": "stream",
     "text": [
      "Epoch 43 of 100 with 21.32 s\n",
      "Generator loss: 1.16792950, Discriminator loss: 1.12050620\n"
     ]
    },
    {
     "name": "stderr",
     "output_type": "stream",
     "text": [
      "100%|████████████████████████████████████████████████████████████████████████████████| 600/600 [00:21<00:00, 28.00it/s]\n"
     ]
    },
    {
     "name": "stdout",
     "output_type": "stream",
     "text": [
      "Epoch 44 of 100 with 21.43 s\n",
      "Generator loss: 1.15878292, Discriminator loss: 1.12932211\n"
     ]
    },
    {
     "name": "stderr",
     "output_type": "stream",
     "text": [
      "100%|████████████████████████████████████████████████████████████████████████████████| 600/600 [00:21<00:00, 28.01it/s]\n"
     ]
    },
    {
     "name": "stdout",
     "output_type": "stream",
     "text": [
      "Epoch 45 of 100 with 21.43 s\n",
      "Generator loss: 1.17367500, Discriminator loss: 1.11818979\n"
     ]
    },
    {
     "name": "stderr",
     "output_type": "stream",
     "text": [
      "100%|████████████████████████████████████████████████████████████████████████████████| 600/600 [00:21<00:00, 28.07it/s]\n"
     ]
    },
    {
     "name": "stdout",
     "output_type": "stream",
     "text": [
      "Epoch 46 of 100 with 21.37 s\n",
      "Generator loss: 1.16561211, Discriminator loss: 1.12414584\n"
     ]
    },
    {
     "name": "stderr",
     "output_type": "stream",
     "text": [
      "100%|████████████████████████████████████████████████████████████████████████████████| 600/600 [00:21<00:00, 28.06it/s]\n"
     ]
    },
    {
     "name": "stdout",
     "output_type": "stream",
     "text": [
      "Epoch 47 of 100 with 21.38 s\n",
      "Generator loss: 1.13278179, Discriminator loss: 1.13754132\n"
     ]
    },
    {
     "name": "stderr",
     "output_type": "stream",
     "text": [
      "100%|████████████████████████████████████████████████████████████████████████████████| 600/600 [00:21<00:00, 27.98it/s]\n"
     ]
    },
    {
     "name": "stdout",
     "output_type": "stream",
     "text": [
      "Epoch 48 of 100 with 21.44 s\n",
      "Generator loss: 1.16226755, Discriminator loss: 1.12244728\n"
     ]
    },
    {
     "name": "stderr",
     "output_type": "stream",
     "text": [
      "100%|████████████████████████████████████████████████████████████████████████████████| 600/600 [00:21<00:00, 28.11it/s]\n"
     ]
    },
    {
     "name": "stdout",
     "output_type": "stream",
     "text": [
      "Epoch 49 of 100 with 21.34 s\n",
      "Generator loss: 1.15898358, Discriminator loss: 1.12632979\n"
     ]
    },
    {
     "name": "stderr",
     "output_type": "stream",
     "text": [
      "100%|████████████████████████████████████████████████████████████████████████████████| 600/600 [00:22<00:00, 26.16it/s]\n"
     ]
    },
    {
     "name": "stdout",
     "output_type": "stream",
     "text": [
      "Epoch 50 of 100 with 22.94 s\n",
      "Generator loss: 1.12824205, Discriminator loss: 1.14937483\n"
     ]
    },
    {
     "data": {
      "image/png": "[encoded data removed]",
      "text/plain": [
       "<Figure size 432x288 with 25 Axes>"
      ]
     },
     "metadata": {
      "needs_background": "light"
     },
     "output_type": "display_data"
    },
    {
     "name": "stderr",
     "output_type": "stream",
     "text": [
      "100%|████████████████████████████████████████████████████████████████████████████████| 600/600 [00:21<00:00, 27.84it/s]\n"
     ]
    },
    {
     "name": "stdout",
     "output_type": "stream",
     "text": [
      "Epoch 51 of 100 with 21.55 s\n",
      "Generator loss: 1.09776288, Discriminator loss: 1.15294236\n"
     ]
    },
    {
     "name": "stderr",
     "output_type": "stream",
     "text": [
      "100%|████████████████████████████████████████████████████████████████████████████████| 600/600 [00:21<00:00, 27.92it/s]\n"
     ]
    },
    {
     "name": "stdout",
     "output_type": "stream",
     "text": [
      "Epoch 52 of 100 with 21.49 s\n",
      "Generator loss: 1.10728955, Discriminator loss: 1.15642781\n"
     ]
    },
    {
     "name": "stderr",
     "output_type": "stream",
     "text": [
      "100%|████████████████████████████████████████████████████████████████████████████████| 600/600 [00:21<00:00, 27.56it/s]\n"
     ]
    },
    {
     "name": "stdout",
     "output_type": "stream",
     "text": [
      "Epoch 53 of 100 with 21.77 s\n",
      "Generator loss: 1.09552158, Discriminator loss: 1.16146466\n"
     ]
    },
    {
     "name": "stderr",
     "output_type": "stream",
     "text": [
      "100%|████████████████████████████████████████████████████████████████████████████████| 600/600 [00:22<00:00, 27.23it/s]\n"
     ]
    },
    {
     "name": "stdout",
     "output_type": "stream",
     "text": [
      "Epoch 54 of 100 with 22.04 s\n",
      "Generator loss: 1.06166268, Discriminator loss: 1.17581850\n"
     ]
    },
    {
     "name": "stderr",
     "output_type": "stream",
     "text": [
      "100%|████████████████████████████████████████████████████████████████████████████████| 600/600 [00:22<00:00, 26.72it/s]\n"
     ]
    },
    {
     "name": "stdout",
     "output_type": "stream",
     "text": [
      "Epoch 55 of 100 with 22.46 s\n",
      "Generator loss: 1.04666417, Discriminator loss: 1.18943456\n"
     ]
    },
    {
     "name": "stderr",
     "output_type": "stream",
     "text": [
      "100%|████████████████████████████████████████████████████████████████████████████████| 600/600 [00:21<00:00, 27.77it/s]\n"
     ]
    },
    {
     "name": "stdout",
     "output_type": "stream",
     "text": [
      "Epoch 56 of 100 with 21.61 s\n",
      "Generator loss: 1.08314256, Discriminator loss: 1.17382070\n"
     ]
    },
    {
     "name": "stderr",
     "output_type": "stream",
     "text": [
      "100%|████████████████████████████████████████████████████████████████████████████████| 600/600 [00:21<00:00, 27.65it/s]\n"
     ]
    },
    {
     "name": "stdout",
     "output_type": "stream",
     "text": [
      "Epoch 57 of 100 with 21.70 s\n",
      "Generator loss: 1.08713828, Discriminator loss: 1.16888651\n"
     ]
    },
    {
     "name": "stderr",
     "output_type": "stream",
     "text": [
      "100%|████████████████████████████████████████████████████████████████████████████████| 600/600 [00:21<00:00, 28.06it/s]\n"
     ]
    },
    {
     "name": "stdout",
     "output_type": "stream",
     "text": [
      "Epoch 58 of 100 with 21.38 s\n",
      "Generator loss: 1.05937766, Discriminator loss: 1.18018990\n"
     ]
    },
    {
     "name": "stderr",
     "output_type": "stream",
     "text": [
      "100%|████████████████████████████████████████████████████████████████████████████████| 600/600 [00:21<00:00, 28.18it/s]\n"
     ]
    },
    {
     "name": "stdout",
     "output_type": "stream",
     "text": [
      "Epoch 59 of 100 with 21.29 s\n",
      "Generator loss: 1.03429214, Discriminator loss: 1.19120565\n"
     ]
    },
    {
     "name": "stderr",
     "output_type": "stream",
     "text": [
      "100%|████████████████████████████████████████████████████████████████████████████████| 600/600 [00:21<00:00, 28.01it/s]\n"
     ]
    },
    {
     "name": "stdout",
     "output_type": "stream",
     "text": [
      "Epoch 60 of 100 with 21.42 s\n",
      "Generator loss: 1.05196331, Discriminator loss: 1.18796221\n"
     ]
    },
    {
     "name": "stderr",
     "output_type": "stream",
     "text": [
      "100%|████████████████████████████████████████████████████████████████████████████████| 600/600 [00:21<00:00, 28.04it/s]\n"
     ]
    },
    {
     "name": "stdout",
     "output_type": "stream",
     "text": [
      "Epoch 61 of 100 with 21.40 s\n",
      "Generator loss: 1.03391976, Discriminator loss: 1.19178850\n"
     ]
    },
    {
     "name": "stderr",
     "output_type": "stream",
     "text": [
      "100%|████████████████████████████████████████████████████████████████████████████████| 600/600 [00:21<00:00, 28.19it/s]\n"
     ]
    },
    {
     "name": "stdout",
     "output_type": "stream",
     "text": [
      "Epoch 62 of 100 with 21.28 s\n",
      "Generator loss: 1.02487140, Discriminator loss: 1.20402735\n"
     ]
    },
    {
     "name": "stderr",
     "output_type": "stream",
     "text": [
      "100%|████████████████████████████████████████████████████████████████████████████████| 600/600 [00:21<00:00, 27.70it/s]\n"
     ]
    },
    {
     "name": "stdout",
     "output_type": "stream",
     "text": [
      "Epoch 63 of 100 with 21.66 s\n",
      "Generator loss: 1.05239557, Discriminator loss: 1.20045709\n"
     ]
    },
    {
     "name": "stderr",
     "output_type": "stream",
     "text": [
      "100%|████████████████████████████████████████████████████████████████████████████████| 600/600 [00:21<00:00, 28.16it/s]\n"
     ]
    },
    {
     "name": "stdout",
     "output_type": "stream",
     "text": [
      "Epoch 64 of 100 with 21.31 s\n",
      "Generator loss: 1.07522040, Discriminator loss: 1.17572452\n"
     ]
    },
    {
     "name": "stderr",
     "output_type": "stream",
     "text": [
      "100%|████████████████████████████████████████████████████████████████████████████████| 600/600 [00:21<00:00, 28.18it/s]\n"
     ]
    },
    {
     "name": "stdout",
     "output_type": "stream",
     "text": [
      "Epoch 65 of 100 with 21.30 s\n",
      "Generator loss: 1.04619189, Discriminator loss: 1.18661197\n"
     ]
    },
    {
     "name": "stderr",
     "output_type": "stream",
     "text": [
      "100%|████████████████████████████████████████████████████████████████████████████████| 600/600 [00:21<00:00, 28.17it/s]\n"
     ]
    },
    {
     "name": "stdout",
     "output_type": "stream",
     "text": [
      "Epoch 66 of 100 with 21.30 s\n",
      "Generator loss: 0.99836965, Discriminator loss: 1.21157099\n"
     ]
    },
    {
     "name": "stderr",
     "output_type": "stream",
     "text": [
      "100%|████████████████████████████████████████████████████████████████████████████████| 600/600 [00:21<00:00, 28.02it/s]\n"
     ]
    },
    {
     "name": "stdout",
     "output_type": "stream",
     "text": [
      "Epoch 67 of 100 with 21.41 s\n",
      "Generator loss: 1.01397014, Discriminator loss: 1.20645683\n"
     ]
    },
    {
     "name": "stderr",
     "output_type": "stream",
     "text": [
      "100%|████████████████████████████████████████████████████████████████████████████████| 600/600 [00:21<00:00, 27.66it/s]\n"
     ]
    },
    {
     "name": "stdout",
     "output_type": "stream",
     "text": [
      "Epoch 68 of 100 with 21.69 s\n",
      "Generator loss: 1.01374305, Discriminator loss: 1.21343262\n"
     ]
    },
    {
     "name": "stderr",
     "output_type": "stream",
     "text": [
      "100%|████████████████████████████████████████████████████████████████████████████████| 600/600 [00:21<00:00, 27.56it/s]\n"
     ]
    },
    {
     "name": "stdout",
     "output_type": "stream",
     "text": [
      "Epoch 69 of 100 with 21.77 s\n",
      "Generator loss: 0.99779590, Discriminator loss: 1.21328582\n"
     ]
    },
    {
     "name": "stderr",
     "output_type": "stream",
     "text": [
      "100%|████████████████████████████████████████████████████████████████████████████████| 600/600 [00:21<00:00, 28.16it/s]\n"
     ]
    },
    {
     "name": "stdout",
     "output_type": "stream",
     "text": [
      "Epoch 70 of 100 with 21.31 s\n",
      "Generator loss: 1.00178999, Discriminator loss: 1.21315710\n"
     ]
    },
    {
     "name": "stderr",
     "output_type": "stream",
     "text": [
      "100%|████████████████████████████████████████████████████████████████████████████████| 600/600 [00:21<00:00, 28.15it/s]\n"
     ]
    },
    {
     "name": "stdout",
     "output_type": "stream",
     "text": [
      "Epoch 71 of 100 with 21.32 s\n",
      "Generator loss: 1.00965165, Discriminator loss: 1.20849659\n"
     ]
    },
    {
     "name": "stderr",
     "output_type": "stream",
     "text": [
      "100%|████████████████████████████████████████████████████████████████████████████████| 600/600 [00:21<00:00, 28.19it/s]\n"
     ]
    },
    {
     "name": "stdout",
     "output_type": "stream",
     "text": [
      "Epoch 72 of 100 with 21.28 s\n",
      "Generator loss: 1.02665708, Discriminator loss: 1.20485823\n"
     ]
    },
    {
     "name": "stderr",
     "output_type": "stream",
     "text": [
      "100%|████████████████████████████████████████████████████████████████████████████████| 600/600 [00:21<00:00, 28.17it/s]\n"
     ]
    },
    {
     "name": "stdout",
     "output_type": "stream",
     "text": [
      "Epoch 73 of 100 with 21.30 s\n",
      "Generator loss: 0.99154343, Discriminator loss: 1.21990043\n"
     ]
    },
    {
     "name": "stderr",
     "output_type": "stream",
     "text": [
      "100%|████████████████████████████████████████████████████████████████████████████████| 600/600 [00:21<00:00, 28.11it/s]\n"
     ]
    },
    {
     "name": "stdout",
     "output_type": "stream",
     "text": [
      "Epoch 74 of 100 with 21.35 s\n",
      "Generator loss: 1.00054964, Discriminator loss: 1.22140958\n"
     ]
    },
    {
     "name": "stderr",
     "output_type": "stream",
     "text": [
      "100%|████████████████████████████████████████████████████████████████████████████████| 600/600 [00:21<00:00, 27.80it/s]\n"
     ]
    },
    {
     "name": "stdout",
     "output_type": "stream",
     "text": [
      "Epoch 75 of 100 with 21.59 s\n",
      "Generator loss: 0.98439563, Discriminator loss: 1.22454451\n"
     ]
    },
    {
     "name": "stderr",
     "output_type": "stream",
     "text": [
      "100%|████████████████████████████████████████████████████████████████████████████████| 600/600 [00:21<00:00, 28.01it/s]\n"
     ]
    },
    {
     "name": "stdout",
     "output_type": "stream",
     "text": [
      "Epoch 76 of 100 with 21.43 s\n",
      "Generator loss: 0.98127116, Discriminator loss: 1.23192353\n"
     ]
    },
    {
     "name": "stderr",
     "output_type": "stream",
     "text": [
      "100%|████████████████████████████████████████████████████████████████████████████████| 600/600 [00:21<00:00, 28.14it/s]\n"
     ]
    },
    {
     "name": "stdout",
     "output_type": "stream",
     "text": [
      "Epoch 77 of 100 with 21.32 s\n",
      "Generator loss: 0.97848057, Discriminator loss: 1.22621450\n"
     ]
    },
    {
     "name": "stderr",
     "output_type": "stream",
     "text": [
      "100%|████████████████████████████████████████████████████████████████████████████████| 600/600 [00:21<00:00, 28.13it/s]\n"
     ]
    },
    {
     "name": "stdout",
     "output_type": "stream",
     "text": [
      "Epoch 78 of 100 with 21.33 s\n",
      "Generator loss: 0.97025630, Discriminator loss: 1.23274013\n"
     ]
    },
    {
     "name": "stderr",
     "output_type": "stream",
     "text": [
      "100%|████████████████████████████████████████████████████████████████████████████████| 600/600 [00:21<00:00, 28.06it/s]\n"
     ]
    },
    {
     "name": "stdout",
     "output_type": "stream",
     "text": [
      "Epoch 79 of 100 with 21.38 s\n",
      "Generator loss: 0.98447459, Discriminator loss: 1.22247752\n"
     ]
    },
    {
     "name": "stderr",
     "output_type": "stream",
     "text": [
      "100%|████████████████████████████████████████████████████████████████████████████████| 600/600 [00:21<00:00, 27.94it/s]\n"
     ]
    },
    {
     "name": "stdout",
     "output_type": "stream",
     "text": [
      "Epoch 80 of 100 with 21.47 s\n",
      "Generator loss: 0.99397682, Discriminator loss: 1.22038623\n"
     ]
    },
    {
     "name": "stderr",
     "output_type": "stream",
     "text": [
      "100%|████████████████████████████████████████████████████████████████████████████████| 600/600 [00:21<00:00, 28.15it/s]\n"
     ]
    },
    {
     "name": "stdout",
     "output_type": "stream",
     "text": [
      "Epoch 81 of 100 with 21.32 s\n",
      "Generator loss: 0.99491603, Discriminator loss: 1.21796559\n"
     ]
    },
    {
     "name": "stderr",
     "output_type": "stream",
     "text": [
      "100%|████████████████████████████████████████████████████████████████████████████████| 600/600 [00:21<00:00, 28.11it/s]\n"
     ]
    },
    {
     "name": "stdout",
     "output_type": "stream",
     "text": [
      "Epoch 82 of 100 with 21.35 s\n",
      "Generator loss: 0.96390562, Discriminator loss: 1.24073902\n"
     ]
    },
    {
     "name": "stderr",
     "output_type": "stream",
     "text": [
      "100%|████████████████████████████████████████████████████████████████████████████████| 600/600 [00:21<00:00, 27.93it/s]\n"
     ]
    },
    {
     "name": "stdout",
     "output_type": "stream",
     "text": [
      "Epoch 83 of 100 with 21.48 s\n",
      "Generator loss: 0.96971702, Discriminator loss: 1.23182184\n"
     ]
    },
    {
     "name": "stderr",
     "output_type": "stream",
     "text": [
      "100%|████████████████████████████████████████████████████████████████████████████████| 600/600 [00:21<00:00, 28.07it/s]\n"
     ]
    },
    {
     "name": "stdout",
     "output_type": "stream",
     "text": [
      "Epoch 84 of 100 with 21.38 s\n",
      "Generator loss: 0.98963130, Discriminator loss: 1.22985088\n"
     ]
    },
    {
     "name": "stderr",
     "output_type": "stream",
     "text": [
      "100%|████████████████████████████████████████████████████████████████████████████████| 600/600 [00:21<00:00, 27.91it/s]\n"
     ]
    },
    {
     "name": "stdout",
     "output_type": "stream",
     "text": [
      "Epoch 85 of 100 with 21.50 s\n",
      "Generator loss: 0.98132938, Discriminator loss: 1.22512560\n"
     ]
    },
    {
     "name": "stderr",
     "output_type": "stream",
     "text": [
      "100%|████████████████████████████████████████████████████████████████████████████████| 600/600 [00:21<00:00, 27.35it/s]\n"
     ]
    },
    {
     "name": "stdout",
     "output_type": "stream",
     "text": [
      "Epoch 86 of 100 with 21.94 s\n",
      "Generator loss: 0.97709660, Discriminator loss: 1.23100911\n"
     ]
    },
    {
     "name": "stderr",
     "output_type": "stream",
     "text": [
      "100%|████████████████████████████████████████████████████████████████████████████████| 600/600 [00:22<00:00, 26.73it/s]\n"
     ]
    },
    {
     "name": "stdout",
     "output_type": "stream",
     "text": [
      "Epoch 87 of 100 with 22.45 s\n",
      "Generator loss: 0.96901034, Discriminator loss: 1.23844615\n"
     ]
    },
    {
     "name": "stderr",
     "output_type": "stream",
     "text": [
      "100%|████████████████████████████████████████████████████████████████████████████████| 600/600 [00:22<00:00, 26.17it/s]\n"
     ]
    },
    {
     "name": "stdout",
     "output_type": "stream",
     "text": [
      "Epoch 88 of 100 with 22.93 s\n",
      "Generator loss: 0.93898756, Discriminator loss: 1.24165005\n"
     ]
    },
    {
     "name": "stderr",
     "output_type": "stream",
     "text": [
      "100%|████████████████████████████████████████████████████████████████████████████████| 600/600 [00:22<00:00, 27.17it/s]\n"
     ]
    },
    {
     "name": "stdout",
     "output_type": "stream",
     "text": [
      "Epoch 89 of 100 with 22.09 s\n",
      "Generator loss: 0.95703657, Discriminator loss: 1.24636277\n"
     ]
    },
    {
     "name": "stderr",
     "output_type": "stream",
     "text": [
      "100%|████████████████████████████████████████████████████████████████████████████████| 600/600 [00:21<00:00, 27.93it/s]\n"
     ]
    },
    {
     "name": "stdout",
     "output_type": "stream",
     "text": [
      "Epoch 90 of 100 with 21.48 s\n",
      "Generator loss: 0.95979719, Discriminator loss: 1.23560128\n"
     ]
    },
    {
     "name": "stderr",
     "output_type": "stream",
     "text": [
      "100%|████████████████████████████████████████████████████████████████████████████████| 600/600 [00:21<00:00, 27.95it/s]\n"
     ]
    },
    {
     "name": "stdout",
     "output_type": "stream",
     "text": [
      "Epoch 91 of 100 with 21.47 s\n",
      "Generator loss: 0.93680963, Discriminator loss: 1.24897014\n"
     ]
    },
    {
     "name": "stderr",
     "output_type": "stream",
     "text": [
      "100%|████████████████████████████████████████████████████████████████████████████████| 600/600 [00:21<00:00, 28.02it/s]\n"
     ]
    },
    {
     "name": "stdout",
     "output_type": "stream",
     "text": [
      "Epoch 92 of 100 with 21.41 s\n",
      "Generator loss: 0.96024300, Discriminator loss: 1.23793585\n"
     ]
    },
    {
     "name": "stderr",
     "output_type": "stream",
     "text": [
      "100%|████████████████████████████████████████████████████████████████████████████████| 600/600 [00:21<00:00, 28.06it/s]\n"
     ]
    },
    {
     "name": "stdout",
     "output_type": "stream",
     "text": [
      "Epoch 93 of 100 with 21.38 s\n",
      "Generator loss: 0.94895727, Discriminator loss: 1.24355584\n"
     ]
    },
    {
     "name": "stderr",
     "output_type": "stream",
     "text": [
      "100%|████████████████████████████████████████████████████████████████████████████████| 600/600 [00:21<00:00, 27.88it/s]\n"
     ]
    },
    {
     "name": "stdout",
     "output_type": "stream",
     "text": [
      "Epoch 94 of 100 with 21.52 s\n",
      "Generator loss: 0.97169658, Discriminator loss: 1.23820163\n"
     ]
    },
    {
     "name": "stderr",
     "output_type": "stream",
     "text": [
      "100%|████████████████████████████████████████████████████████████████████████████████| 600/600 [00:21<00:00, 27.92it/s]\n"
     ]
    },
    {
     "name": "stdout",
     "output_type": "stream",
     "text": [
      "Epoch 95 of 100 with 21.49 s\n",
      "Generator loss: 0.96710700, Discriminator loss: 1.24229386\n"
     ]
    },
    {
     "name": "stderr",
     "output_type": "stream",
     "text": [
      "100%|████████████████████████████████████████████████████████████████████████████████| 600/600 [00:21<00:00, 28.00it/s]\n"
     ]
    },
    {
     "name": "stdout",
     "output_type": "stream",
     "text": [
      "Epoch 96 of 100 with 21.43 s\n",
      "Generator loss: 0.97037852, Discriminator loss: 1.23302775\n"
     ]
    },
    {
     "name": "stderr",
     "output_type": "stream",
     "text": [
      "100%|████████████████████████████████████████████████████████████████████████████████| 600/600 [00:21<00:00, 28.00it/s]\n"
     ]
    },
    {
     "name": "stdout",
     "output_type": "stream",
     "text": [
      "Epoch 97 of 100 with 21.43 s\n",
      "Generator loss: 0.95077126, Discriminator loss: 1.24523191\n"
     ]
    },
    {
     "name": "stderr",
     "output_type": "stream",
     "text": [
      "100%|████████████████████████████████████████████████████████████████████████████████| 600/600 [00:21<00:00, 27.85it/s]\n"
     ]
    },
    {
     "name": "stdout",
     "output_type": "stream",
     "text": [
      "Epoch 98 of 100 with 21.54 s\n",
      "Generator loss: 0.94250342, Discriminator loss: 1.25196042\n"
     ]
    },
    {
     "name": "stderr",
     "output_type": "stream",
     "text": [
      "100%|████████████████████████████████████████████████████████████████████████████████| 600/600 [00:21<00:00, 27.93it/s]\n"
     ]
    },
    {
     "name": "stdout",
     "output_type": "stream",
     "text": [
      "Epoch 99 of 100 with 21.49 s\n",
      "Generator loss: 0.94278952, Discriminator loss: 1.24711922\n"
     ]
    },
    {
     "name": "stderr",
     "output_type": "stream",
     "text": [
      "100%|████████████████████████████████████████████████████████████████████████████████| 600/600 [00:21<00:00, 28.07it/s]\n"
     ]
    },
    {
     "name": "stdout",
     "output_type": "stream",
     "text": [
      "Epoch 100 of 100 with 21.38 s\n",
      "Generator loss: 0.94433404, Discriminator loss: 1.25189549\n"
     ]
    },
    {
     "data": {
      "image/png": "[encoded data removed]",
      "text/plain": [
       "<Figure size 432x288 with 25 Axes>"
      ]
     },
     "metadata": {
      "needs_background": "light"
     },
     "output_type": "display_data"
    },
    {
     "name": "stdout",
     "output_type": "stream",
     "text": [
      "Avg per epoch ptime: 21.47, total 100 epochs ptime: 2241.48\n",
      "Training finish!... save training results\n"
     ]
    }
   ],
   "source": [
    "if __name__ == '__main__':\n",
    "    #if __name__ == '__main__'意思是如果用该文件直接执行，会运行下面的代码，当该文件被调用时，不执行下面的代码#\n",
    "    #也就是说当该文件被调用，只调用前面定义的一大堆函数，接下来的主程序不执行#\n",
    "    # initialise the device for training, if gpu is available, device = 'cuda', else: device = 'cpu'\n",
    "    device = torch.device('cuda' if torch.cuda.is_available() else 'cpu')\n",
    "    data_dir = './MNIST_data/'\n",
    "    save_dir = './MNIST_GAN_results/'\n",
    "    image_save_dir = './MNIST_GAN_results/results'\n",
    "\n",
    "    # create folder if not exist\n",
    "    if not os.path.exists(save_dir):\n",
    "        os.mkdir(save_dir)\n",
    "    if not os.path.exists(image_save_dir):\n",
    "        os.mkdir(image_save_dir)\n",
    "\n",
    "    # training parameters\n",
    "    batch_size = 100\n",
    "    learning_rate = 0.0002\n",
    "    epochs = 100\n",
    "\n",
    "    # parameters for Models\n",
    "    image_size = 28\n",
    "    G_input_dim = 100\n",
    "    G_output_dim = image_size * image_size\n",
    "    D_input_dim = image_size * image_size\n",
    "    D_output_dim = 1\n",
    "\n",
    "    # construct the dataset and data loader\n",
    "    transform = transforms.Compose([transforms.ToTensor(),\n",
    "                                    transforms.Normalize(mean=(0.5,), std=(0.5,))])\n",
    "    #定义转换器，将图片转化为张量#\n",
    "    train_data = datasets.MNIST(root=data_dir, train=True, transform=transform, download=True)\n",
    "    #利用上面的转换器将数据集转换#\n",
    "    train_loader = DataLoader(dataset=train_data, batch_size=batch_size, shuffle=True)\n",
    "    #载入上面转换后的图片#\n",
    "\n",
    "    # declare the generator and discriminator networks    \n",
    "    G_net = Generator(G_input_dim, G_output_dim).to(device)\n",
    "    D_net = Discriminator(D_input_dim, D_output_dim).to(device)\n",
    "    #使用上面定义的生成器和判别器网络#\n",
    "\n",
    "    # Binary Cross Entropy Loss function\n",
    "    criterion = nn.BCELoss().to(device)\n",
    "    #定义损失函数#\n",
    "\n",
    "    # Initialise the Optimizers\n",
    "    G_optimizer = torch.optim.Adam(G_net.parameters(), lr=learning_rate)\n",
    "    D_optimizer = torch.optim.Adam(D_net.parameters(), lr=learning_rate)\n",
    "    #定义优化器#\n",
    "    \n",
    "\n",
    "    # tracking variables\n",
    "    train_hist = {}\n",
    "    train_hist['D_losses'] = []\n",
    "    train_hist['G_losses'] = []\n",
    "    train_hist['per_epoch_ptimes'] = []\n",
    "    train_hist['total_ptime'] = []\n",
    "\n",
    "    start_time = time.time()\n",
    "    # training loop\n",
    "    for epoch in range(epochs):\n",
    "        G_net.train()\n",
    "        D_net.train()\n",
    "        Loss_G = []\n",
    "        Loss_D = []\n",
    "        epoch_start_time = time.time()\n",
    "        for (image, _) in tqdm(train_loader):\n",
    "            image = image.to(device)\n",
    "            b_size = len(image)\n",
    "            # creat real and fake labels\n",
    "            real_label = torch.ones(b_size, 1).to(device)\n",
    "            fake_label = torch.zeros(b_size, 1).to(device)\n",
    "\n",
    "            # generate fake images \n",
    "            data_fake = G_net(create_noise(b_size, G_input_dim).to(device))\n",
    "            data_real = image.view(b_size, D_input_dim)\n",
    "\n",
    "            # --------train the discriminator network----------\n",
    "            # compute the loss for real and fake images\n",
    "            output_real = D_net(data_real)\n",
    "            output_fake = D_net(data_fake)\n",
    "            loss_real = criterion(output_real, real_label)\n",
    "            loss_fake = criterion(output_fake, fake_label)\n",
    "            loss_d = loss_real + loss_fake\n",
    "\n",
    "            # back propagation\n",
    "            D_optimizer.zero_grad()\n",
    "            loss_d.backward()\n",
    "            D_optimizer.step()\n",
    "\n",
    "            # -------- train the generator network-----------\n",
    "            data_fake = G_net(create_noise(b_size, G_input_dim).to(device))\n",
    "\n",
    "            # compute the loss for generator network\n",
    "            output_fake = D_net(data_fake)\n",
    "            loss_g = criterion(output_fake, real_label)\n",
    "\n",
    "            ## back propagation\n",
    "            G_optimizer.zero_grad()\n",
    "            loss_g.backward()\n",
    "            G_optimizer.step()\n",
    "\n",
    "            ## store the loss of each iter\n",
    "            Loss_D.append(loss_d.item())\n",
    "            Loss_G.append(loss_g.item())\n",
    "\n",
    "        epoch_loss_g = np.mean(Loss_G)  # mean generator loss for the epoch\n",
    "        epoch_loss_d = np.mean(Loss_D)  # mean discriminator loss for the epoch\n",
    "        epoch_end_time = time.time()\n",
    "        per_epoch_ptime = epoch_end_time - epoch_start_time\n",
    "\n",
    "        print(\"Epoch %d of %d with %.2f s\" % (epoch + 1, epochs, per_epoch_ptime))\n",
    "        print(\"Generator loss: %.8f, Discriminator loss: %.8f\" % (epoch_loss_g, epoch_loss_d))\n",
    "\n",
    "        path = image_save_dir + '/MNIST_GAN_' + str(epoch + 1) + '.png'\n",
    "        show_result(G_net, create_noise(25, 100).to(device), (epoch + 1), save=True, path=path)\n",
    "        #输入25个维度为100的向量，输出25个28*28的图片#\n",
    "\n",
    "        # record the loss for every epoch\n",
    "        train_hist['G_losses'].append(epoch_loss_g)\n",
    "        train_hist['D_losses'].append(epoch_loss_d)\n",
    "        train_hist['per_epoch_ptimes'].append(per_epoch_ptime)\n",
    "\n",
    "    end_time = time.time()\n",
    "    total_ptime = end_time - start_time\n",
    "    train_hist['total_ptime'].append(total_ptime)\n",
    "\n",
    "    print('Avg per epoch ptime: %.2f, total %d epochs ptime: %.2f' % (\n",
    "        np.mean(train_hist['per_epoch_ptimes']), epochs, total_ptime))\n",
    "    print(\"Training finish!... save training results\")\n",
    "    with open(save_dir + '/train_hist.pkl', 'wb') as f:\n",
    "        pickle.dump(train_hist, f)\n",
    "    show_train_hist(train_hist, save=True, path=save_dir + '/MNIST_GAN_train_hist.png')"
   ]
  },
  {
   "cell_type": "code",
   "execution_count": null,
   "id": "409a8720",
   "metadata": {},
   "outputs": [],
   "source": []
  }
 ],
 "metadata": {
  "kernelspec": {
   "display_name": "Python 3 (ipykernel)",
   "language": "python",
   "name": "python3"
  },
  "language_info": {
   "codemirror_mode": {
    "name": "ipython",
    "version": 3
   },
   "file_extension": ".py",
   "mimetype": "text/x-python",
   "name": "python",
   "nbconvert_exporter": "python",
   "pygments_lexer": "ipython3",
   "version": "3.9.7"
  }
 },
 "nbformat": 4,
 "nbformat_minor": 5
}
